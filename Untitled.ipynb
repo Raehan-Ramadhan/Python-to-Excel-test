{
 "cells": [
  {
   "cell_type": "code",
   "execution_count": 2,
   "id": "7aa480e3",
   "metadata": {},
   "outputs": [],
   "source": [
    "import numpy as np\n",
    "\n",
    "with open('ResourceList.txt') as f:\n",
    "    lines = f.readlines()\n",
    "    \n",
    "Cities = [line.split('~')[0].strip() for line in lines]\n",
    "\n",
    "Oil = []\n",
    "for line in lines:\n",
    "    if (line.find('oil') != -1):\n",
    "        Oil.append(line[line.find('oil')-4:line.find('oil')-1])\n",
    "    else:\n",
    "        Oil.append(np.nan)"
   ]
  }
 ],
 "metadata": {
  "kernelspec": {
   "display_name": "Python 3 (ipykernel)",
   "language": "python",
   "name": "python3"
  },
  "language_info": {
   "codemirror_mode": {
    "name": "ipython",
    "version": 3
   },
   "file_extension": ".py",
   "mimetype": "text/x-python",
   "name": "python",
   "nbconvert_exporter": "python",
   "pygments_lexer": "ipython3",
   "version": "3.10.2"
  }
 },
 "nbformat": 4,
 "nbformat_minor": 5
}
