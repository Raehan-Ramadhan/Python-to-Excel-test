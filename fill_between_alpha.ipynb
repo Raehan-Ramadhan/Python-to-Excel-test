{
 "cells": [
  {
   "cell_type": "code",
   "execution_count": null,
   "metadata": {},
   "outputs": [],
   "source": [
    "%matplotlib inline"
   ]
  },
  {
   "cell_type": "markdown",
   "metadata": {},
   "source": [
    "\n",
    "# Fill Between and Alpha\n",
    "\n",
    "The `~matplotlib.axes.Axes.fill_between` function generates a shaded\n",
    "region between a min and max boundary that is useful for illustrating ranges.\n",
    "It has a very handy ``where`` argument to combine filling with logical ranges,\n",
    "e.g., to just fill in a curve over some threshold value.\n",
    "\n",
    "At its most basic level, ``fill_between`` can be use to enhance a graphs visual\n",
    "appearance. Let's compare two graphs of a financial times with a simple line\n",
    "plot on the left and a filled line on the right.\n"
   ]
  },
  {
   "cell_type": "code",
   "execution_count": null,
   "metadata": {},
   "outputs": [],
   "source": [
    "import matplotlib.pyplot as plt\n",
    "import numpy as np\n",
    "import matplotlib.cbook as cbook\n",
    "\n",
    "\n",
    "# load up some sample financial data\n",
    "r = (cbook.get_sample_data('goog.npz', np_load=True)['price_data']\n",
    "     .view(np.recarray))\n",
    "# create two subplots with the shared x and y axes\n",
    "fig, (ax1, ax2) = plt.subplots(1, 2, sharex=True, sharey=True)\n",
    "\n",
    "pricemin = r.close.min()\n",
    "\n",
    "ax1.plot(r.date, r.close, lw=2)\n",
    "ax2.fill_between(r.date, pricemin, r.close, alpha=0.7)\n",
    "\n",
    "for ax in ax1, ax2:\n",
    "    ax.grid(True)\n",
    "\n",
    "ax1.set_ylabel('price')\n",
    "for label in ax2.get_yticklabels():\n",
    "    label.set_visible(False)\n",
    "\n",
    "fig.suptitle('Google (GOOG) daily closing price')\n",
    "fig.autofmt_xdate()"
   ]
  },
  {
   "cell_type": "markdown",
   "metadata": {},
   "source": [
    "The alpha channel is not necessary here, but it can be used to soften\n",
    "colors for more visually appealing plots.  In other examples, as we'll\n",
    "see below, the alpha channel is functionally useful as the shaded\n",
    "regions can overlap and alpha allows you to see both.  Note that the\n",
    "postscript format does not support alpha (this is a postscript\n",
    "limitation, not a matplotlib limitation), so when using alpha save\n",
    "your figures in PNG, PDF or SVG.\n",
    "\n",
    "Our next example computes two populations of random walkers with a\n",
    "different mean and standard deviation of the normal distributions from\n",
    "which the steps are drawn.  We use filled regions to plot +/- one\n",
    "standard deviation of the mean position of the population.  Here the\n",
    "alpha channel is useful, not just aesthetic.\n",
    "\n"
   ]
  },
  {
   "cell_type": "code",
   "execution_count": null,
   "metadata": {},
   "outputs": [],
   "source": [
    "# Fixing random state for reproducibility\n",
    "np.random.seed(19680801)\n",
    "\n",
    "Nsteps, Nwalkers = 100, 250\n",
    "t = np.arange(Nsteps)\n",
    "\n",
    "# an (Nsteps x Nwalkers) array of random walk steps\n",
    "S1 = 0.004 + 0.02*np.random.randn(Nsteps, Nwalkers)\n",
    "S2 = 0.002 + 0.01*np.random.randn(Nsteps, Nwalkers)\n",
    "\n",
    "# an (Nsteps x Nwalkers) array of random walker positions\n",
    "X1 = S1.cumsum(axis=0)\n",
    "X2 = S2.cumsum(axis=0)\n",
    "\n",
    "\n",
    "# Nsteps length arrays empirical means and standard deviations of both\n",
    "# populations over time\n",
    "mu1 = X1.mean(axis=1)\n",
    "sigma1 = X1.std(axis=1)\n",
    "mu2 = X2.mean(axis=1)\n",
    "sigma2 = X2.std(axis=1)\n",
    "\n",
    "# plot it!\n",
    "fig, ax = plt.subplots(1)\n",
    "ax.plot(t, mu1, lw=2, label='mean population 1')\n",
    "ax.plot(t, mu2, lw=2, label='mean population 2')\n",
    "ax.fill_between(t, mu1+sigma1, mu1-sigma1, facecolor='C0', alpha=0.4)\n",
    "ax.fill_between(t, mu2+sigma2, mu2-sigma2, facecolor='C1', alpha=0.4)\n",
    "ax.set_title(r'random walkers empirical $\\mu$ and $\\pm \\sigma$ interval')\n",
    "ax.legend(loc='upper left')\n",
    "ax.set_xlabel('num steps')\n",
    "ax.set_ylabel('position')\n",
    "ax.grid()"
   ]
  },
  {
   "cell_type": "markdown",
   "metadata": {},
   "source": [
    "The ``where`` keyword argument is very handy for highlighting certain\n",
    "regions of the graph.  ``where`` takes a boolean mask the same length\n",
    "as the x, ymin and ymax arguments, and only fills in the region where\n",
    "the boolean mask is True.  In the example below, we simulate a single\n",
    "random walker and compute the analytic mean and standard deviation of\n",
    "the population positions.  The population mean is shown as the dashed\n",
    "line, and the plus/minus one sigma deviation from the mean is shown\n",
    "as the filled region.  We use the where mask ``X > upper_bound`` to\n",
    "find the region where the walker is outside the one sigma boundary,\n",
    "and shade that region red.\n",
    "\n"
   ]
  },
  {
   "cell_type": "code",
   "execution_count": null,
   "metadata": {},
   "outputs": [],
   "source": [
    "# Fixing random state for reproducibility\n",
    "np.random.seed(1)\n",
    "\n",
    "Nsteps = 500\n",
    "t = np.arange(Nsteps)\n",
    "\n",
    "mu = 0.002\n",
    "sigma = 0.01\n",
    "\n",
    "# the steps and position\n",
    "S = mu + sigma*np.random.randn(Nsteps)\n",
    "X = S.cumsum()\n",
    "\n",
    "# the 1 sigma upper and lower analytic population bounds\n",
    "lower_bound = mu*t - sigma*np.sqrt(t)\n",
    "upper_bound = mu*t + sigma*np.sqrt(t)\n",
    "\n",
    "fig, ax = plt.subplots(1)\n",
    "ax.plot(t, X, lw=2, label='walker position')\n",
    "ax.plot(t, mu*t, lw=1, label='population mean', color='C0', ls='--')\n",
    "ax.fill_between(t, lower_bound, upper_bound, facecolor='C0', alpha=0.4,\n",
    "                label='1 sigma range')\n",
    "ax.legend(loc='upper left')\n",
    "\n",
    "# here we use the where argument to only fill the region where the\n",
    "# walker is above the population 1 sigma boundary\n",
    "ax.fill_between(t, upper_bound, X, where=X > upper_bound, fc='red', alpha=0.4)\n",
    "ax.fill_between(t, lower_bound, X, where=X < lower_bound, fc='red', alpha=0.4)\n",
    "ax.set_xlabel('num steps')\n",
    "ax.set_ylabel('position')\n",
    "ax.grid()"
   ]
  },
  {
   "cell_type": "markdown",
   "metadata": {},
   "source": [
    "Another handy use of filled regions is to highlight horizontal or vertical\n",
    "spans of an axes -- for that Matplotlib has the helper functions\n",
    "`~matplotlib.axes.Axes.axhspan` and `~matplotlib.axes.Axes.axvspan`.  See\n",
    ":doc:`/gallery/subplots_axes_and_figures/axhspan_demo`.\n",
    "\n"
   ]
  },
  {
   "cell_type": "code",
   "execution_count": null,
   "metadata": {},
   "outputs": [],
   "source": [
    "plt.show()"
   ]
  }
 ],
 "metadata": {
  "kernelspec": {
   "display_name": "Python 3 (ipykernel)",
   "language": "python",
   "name": "python3"
  },
  "language_info": {
   "codemirror_mode": {
    "name": "ipython",
    "version": 3
   },
   "file_extension": ".py",
   "mimetype": "text/x-python",
   "name": "python",
   "nbconvert_exporter": "python",
   "pygments_lexer": "ipython3",
   "version": "3.10.2"
  }
 },
 "nbformat": 4,
 "nbformat_minor": 1
}
