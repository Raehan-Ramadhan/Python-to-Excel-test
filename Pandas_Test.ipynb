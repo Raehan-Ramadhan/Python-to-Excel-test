{
 "cells": [
  {
   "cell_type": "code",
   "execution_count": 47,
   "id": "556cdf0e",
   "metadata": {},
   "outputs": [],
   "source": [
    "import numpy as np\n",
    "import pandas as pd"
   ]
  },
  {
   "cell_type": "code",
   "execution_count": 48,
   "id": "f7e4d55d",
   "metadata": {
    "scrolled": true,
    "tags": []
   },
   "outputs": [
    {
     "data": {
      "text/plain": "0    1.0\n1    2.0\n2    NaN\n3    4.0\n4    5.0\n5    5.0\ndtype: float64"
     },
     "execution_count": 48,
     "metadata": {},
     "output_type": "execute_result"
    }
   ],
   "source": [
    "pd.Series([1, 2, np.nan, 4, 5, 5])"
   ]
  },
  {
   "cell_type": "code",
   "execution_count": 49,
   "id": "13ba66e3",
   "metadata": {
    "tags": []
   },
   "outputs": [
    {
     "data": {
      "text/plain": "DatetimeIndex(['2022-02-01', '2022-02-02', '2022-02-03', '2022-02-04',\n               '2022-02-05', '2022-02-06'],\n              dtype='datetime64[ns]', freq='D')"
     },
     "execution_count": 49,
     "metadata": {},
     "output_type": "execute_result"
    }
   ],
   "source": [
    "dates = pd.date_range(\"20220201\", periods=6)\n",
    "dates"
   ]
  },
  {
   "cell_type": "code",
   "execution_count": 50,
   "id": "11f05092",
   "metadata": {},
   "outputs": [
    {
     "data": {
      "text/plain": "            Cat Empire      USSR  Great Baguette  Ice Empire\n2022-02-01   -0.955593  0.614842        3.884513    1.027451\n2022-02-02   -0.959830 -1.103525       -0.926449   -0.780195\n2022-02-03   -0.844591  2.008304        2.950716    1.560801\n2022-02-04   -0.533943  1.094718        0.747579   -0.198157\n2022-02-05   -0.138103 -0.330340        0.698216    0.983016\n2022-02-06   -0.422847 -0.684735        1.523002   -0.987327",
      "text/html": "<div>\n<style scoped>\n    .dataframe tbody tr th:only-of-type {\n        vertical-align: middle;\n    }\n\n    .dataframe tbody tr th {\n        vertical-align: top;\n    }\n\n    .dataframe thead th {\n        text-align: right;\n    }\n</style>\n<table border=\"1\" class=\"dataframe\">\n  <thead>\n    <tr style=\"text-align: right;\">\n      <th></th>\n      <th>Cat Empire</th>\n      <th>USSR</th>\n      <th>Great Baguette</th>\n      <th>Ice Empire</th>\n    </tr>\n  </thead>\n  <tbody>\n    <tr>\n      <th>2022-02-01</th>\n      <td>-0.955593</td>\n      <td>0.614842</td>\n      <td>3.884513</td>\n      <td>1.027451</td>\n    </tr>\n    <tr>\n      <th>2022-02-02</th>\n      <td>-0.959830</td>\n      <td>-1.103525</td>\n      <td>-0.926449</td>\n      <td>-0.780195</td>\n    </tr>\n    <tr>\n      <th>2022-02-03</th>\n      <td>-0.844591</td>\n      <td>2.008304</td>\n      <td>2.950716</td>\n      <td>1.560801</td>\n    </tr>\n    <tr>\n      <th>2022-02-04</th>\n      <td>-0.533943</td>\n      <td>1.094718</td>\n      <td>0.747579</td>\n      <td>-0.198157</td>\n    </tr>\n    <tr>\n      <th>2022-02-05</th>\n      <td>-0.138103</td>\n      <td>-0.330340</td>\n      <td>0.698216</td>\n      <td>0.983016</td>\n    </tr>\n    <tr>\n      <th>2022-02-06</th>\n      <td>-0.422847</td>\n      <td>-0.684735</td>\n      <td>1.523002</td>\n      <td>-0.987327</td>\n    </tr>\n  </tbody>\n</table>\n</div>"
     },
     "execution_count": 50,
     "metadata": {},
     "output_type": "execute_result"
    }
   ],
   "source": [
    "df = pd.DataFrame(np.random.randn(6, 4), index=dates, columns=[\"Cat Empire\", \"USSR\", \"Great Baguette\", \"Ice Empire\"])\n",
    "df"
   ]
  },
  {
   "cell_type": "code",
   "execution_count": 51,
   "id": "a006333c",
   "metadata": {
    "scrolled": true,
    "tags": []
   },
   "outputs": [],
   "source": [
    "with open('ResourceList.txt') as f:\n",
    "    lines = f.readlines()\n",
    "    \n",
    "Cities = [line.split('~')[0].strip() for line in lines]\n",
    "\n",
    "Oil = []\n",
    "for line in lines:\n",
    "    if (line.find('oil') != -1):\n",
    "        Oil.append(line[line.find('oil')-4:line.find('oil')-1])\n",
    "    else:\n",
    "        Oil.append(np.nan)\n",
    "        \n",
    "Stone = []\n",
    "for line in lines:\n",
    "    if (line.find('stone') != -1):\n",
    "        Stone.append(line[line.find('stone')-4:line.find('stone')-1])\n",
    "    else:\n",
    "        Stone.append(np.nan)\n",
    "        \n",
    "Copper = []\n",
    "for line in lines:\n",
    "    if (line.find('copper') != -1):\n",
    "        Copper.append(line[line.find('copper')-4:line.find('copper')-1])\n",
    "    else:\n",
    "        Copper.append(np.nan)\n",
    "        \n",
    "Wood = []\n",
    "for line in lines:\n",
    "    if (line.find('wood') != -1):\n",
    "        Wood.append(line[line.find('wood')-4:line.find('wood')-1])\n",
    "    else:\n",
    "        Wood.append(np.nan)\n",
    "        \n",
    "Tungsten = []\n",
    "for line in lines:\n",
    "    if (line.find('tungsten') != -1):\n",
    "        Tungsten.append(line[line.find('tungsten')-4:line.find('tungsten')-1])\n",
    "    else:\n",
    "        Tungsten.append(np.nan)\n",
    "        \n",
    "Aluminum = []\n",
    "for line in lines:\n",
    "    if (line.find('aluminum') != -1):\n",
    "        Aluminum.append(line[line.find('aluminum')-4:line.find('aluminum')-1])\n",
    "    else:\n",
    "        Aluminum.append(np.nan)\n",
    "        \n",
    "Gold = []\n",
    "for line in lines:\n",
    "    if (line.find('gold') != -1):\n",
    "        Gold.append(line[line.find('gold')-4:line.find('gold')-1])\n",
    "    else:\n",
    "        Gold.append(np.nan)\n",
    "        \n",
    "Iron = []\n",
    "for line in lines:\n",
    "    if (line.find('iron') != -1):\n",
    "        Iron.append(line[line.find('iron')-4:line.find('iron')-1])\n",
    "    else:\n",
    "        Iron.append(np.nan)\n",
    "        \n",
    "Uranium = []\n",
    "for line in lines:\n",
    "    if (line.find('uranium') != -1):\n",
    "        Uranium.append(line[line.find('uranium')-4:line.find('uranium')-1])\n",
    "    else:\n",
    "        Uranium.append(np.nan)"
   ]
  },
  {
   "cell_type": "code",
   "execution_count": 52,
   "id": "91e01e99",
   "metadata": {
    "tags": []
   },
   "outputs": [
    {
     "data": {
      "text/plain": "                                            Iron  Oil Stone Aluminum Gold  \\\nUrumqi                                       NaN  0.2   0.8      NaN  NaN   \nLanzhou                                      NaN  0.1   0.3      NaN  NaN   \nHohhot                                       0.4  NaN   0.3      NaN  NaN   \nXining                                       NaN  0.1   0.7      NaN  NaN   \nYinchuan                                     NaN  0.2   0.4      NaN  NaN   \n...                                          ...  ...   ...      ...  ...   \nChangchun                                    NaN  0.1   NaN      0.3  NaN   \nHarbin                                       NaN  NaN   NaN      0.3  NaN   \nExurbia City: 0.5 iron, 0.4 wood, 0.1 stone  0.5  NaN   0.1      NaN  NaN   \nHazy Cloud                                   NaN  0.3   0.3      NaN  NaN   \nMilabo Port                                  NaN  0.1   0.4      NaN  NaN   \n\n                                            Tungsten Uranium Copper Wood  \nUrumqi                                           NaN     NaN    NaN  NaN  \nLanzhou                                          NaN     NaN    NaN  NaN  \nHohhot                                           NaN     NaN    NaN  NaN  \nXining                                           NaN     NaN    NaN  NaN  \nYinchuan                                         NaN     NaN    NaN  0.1  \n...                                              ...     ...    ...  ...  \nChangchun                                        NaN     NaN    NaN  0.7  \nHarbin                                           NaN     NaN    NaN  0.3  \nExurbia City: 0.5 iron, 0.4 wood, 0.1 stone      NaN     NaN    NaN  0.4  \nHazy Cloud                                       NaN     NaN    NaN  1.5  \nMilabo Port                                      NaN     NaN    0.4  1.2  \n\n[68 rows x 9 columns]",
      "text/html": "<div>\n<style scoped>\n    .dataframe tbody tr th:only-of-type {\n        vertical-align: middle;\n    }\n\n    .dataframe tbody tr th {\n        vertical-align: top;\n    }\n\n    .dataframe thead th {\n        text-align: right;\n    }\n</style>\n<table border=\"1\" class=\"dataframe\">\n  <thead>\n    <tr style=\"text-align: right;\">\n      <th></th>\n      <th>Iron</th>\n      <th>Oil</th>\n      <th>Stone</th>\n      <th>Aluminum</th>\n      <th>Gold</th>\n      <th>Tungsten</th>\n      <th>Uranium</th>\n      <th>Copper</th>\n      <th>Wood</th>\n    </tr>\n  </thead>\n  <tbody>\n    <tr>\n      <th>Urumqi</th>\n      <td>NaN</td>\n      <td>0.2</td>\n      <td>0.8</td>\n      <td>NaN</td>\n      <td>NaN</td>\n      <td>NaN</td>\n      <td>NaN</td>\n      <td>NaN</td>\n      <td>NaN</td>\n    </tr>\n    <tr>\n      <th>Lanzhou</th>\n      <td>NaN</td>\n      <td>0.1</td>\n      <td>0.3</td>\n      <td>NaN</td>\n      <td>NaN</td>\n      <td>NaN</td>\n      <td>NaN</td>\n      <td>NaN</td>\n      <td>NaN</td>\n    </tr>\n    <tr>\n      <th>Hohhot</th>\n      <td>0.4</td>\n      <td>NaN</td>\n      <td>0.3</td>\n      <td>NaN</td>\n      <td>NaN</td>\n      <td>NaN</td>\n      <td>NaN</td>\n      <td>NaN</td>\n      <td>NaN</td>\n    </tr>\n    <tr>\n      <th>Xining</th>\n      <td>NaN</td>\n      <td>0.1</td>\n      <td>0.7</td>\n      <td>NaN</td>\n      <td>NaN</td>\n      <td>NaN</td>\n      <td>NaN</td>\n      <td>NaN</td>\n      <td>NaN</td>\n    </tr>\n    <tr>\n      <th>Yinchuan</th>\n      <td>NaN</td>\n      <td>0.2</td>\n      <td>0.4</td>\n      <td>NaN</td>\n      <td>NaN</td>\n      <td>NaN</td>\n      <td>NaN</td>\n      <td>NaN</td>\n      <td>0.1</td>\n    </tr>\n    <tr>\n      <th>...</th>\n      <td>...</td>\n      <td>...</td>\n      <td>...</td>\n      <td>...</td>\n      <td>...</td>\n      <td>...</td>\n      <td>...</td>\n      <td>...</td>\n      <td>...</td>\n    </tr>\n    <tr>\n      <th>Changchun</th>\n      <td>NaN</td>\n      <td>0.1</td>\n      <td>NaN</td>\n      <td>0.3</td>\n      <td>NaN</td>\n      <td>NaN</td>\n      <td>NaN</td>\n      <td>NaN</td>\n      <td>0.7</td>\n    </tr>\n    <tr>\n      <th>Harbin</th>\n      <td>NaN</td>\n      <td>NaN</td>\n      <td>NaN</td>\n      <td>0.3</td>\n      <td>NaN</td>\n      <td>NaN</td>\n      <td>NaN</td>\n      <td>NaN</td>\n      <td>0.3</td>\n    </tr>\n    <tr>\n      <th>Exurbia City: 0.5 iron, 0.4 wood, 0.1 stone</th>\n      <td>0.5</td>\n      <td>NaN</td>\n      <td>0.1</td>\n      <td>NaN</td>\n      <td>NaN</td>\n      <td>NaN</td>\n      <td>NaN</td>\n      <td>NaN</td>\n      <td>0.4</td>\n    </tr>\n    <tr>\n      <th>Hazy Cloud</th>\n      <td>NaN</td>\n      <td>0.3</td>\n      <td>0.3</td>\n      <td>NaN</td>\n      <td>NaN</td>\n      <td>NaN</td>\n      <td>NaN</td>\n      <td>NaN</td>\n      <td>1.5</td>\n    </tr>\n    <tr>\n      <th>Milabo Port</th>\n      <td>NaN</td>\n      <td>0.1</td>\n      <td>0.4</td>\n      <td>NaN</td>\n      <td>NaN</td>\n      <td>NaN</td>\n      <td>NaN</td>\n      <td>0.4</td>\n      <td>1.2</td>\n    </tr>\n  </tbody>\n</table>\n<p>68 rows × 9 columns</p>\n</div>"
     },
     "execution_count": 52,
     "metadata": {},
     "output_type": "execute_result"
    }
   ],
   "source": [
    "resource = pd.DataFrame(\n",
    "    {\n",
    "        \"Iron\": Iron,\n",
    "        \"Oil\": Oil,\n",
    "        \"Stone\": Stone,\n",
    "        \"Aluminum\": Aluminum,\n",
    "        \"Gold\": Gold,\n",
    "        \"Tungsten\": Tungsten,\n",
    "        \"Uranium\": Uranium,\n",
    "        \"Copper\": Copper,\n",
    "        \"Wood\": Wood\n",
    "    },\n",
    "index=Cities)\n",
    "resource"
   ]
  },
  {
   "cell_type": "code",
   "execution_count": 53,
   "id": "0eed34d0-280c-4e6a-b00b-01ed01680f15",
   "metadata": {},
   "outputs": [],
   "source": [
    "resource.to_csv(\"output1.csv\")"
   ]
  },
  {
   "cell_type": "code",
   "execution_count": 54,
   "id": "b106f9a7",
   "metadata": {},
   "outputs": [
    {
     "ename": "ValueError",
     "evalue": "could not convert string to float: '~ 1'",
     "output_type": "error",
     "traceback": [
      "\u001B[1;31m---------------------------------------------------------------------------\u001B[0m",
      "\u001B[1;31mValueError\u001B[0m                                Traceback (most recent call last)",
      "Input \u001B[1;32mIn [54]\u001B[0m, in \u001B[0;36m<module>\u001B[1;34m\u001B[0m\n\u001B[0;32m     29\u001B[0m WoodCount \u001B[38;5;241m=\u001B[39m \u001B[38;5;241m0\u001B[39m\n\u001B[0;32m     30\u001B[0m \u001B[38;5;28;01mfor\u001B[39;00m x \u001B[38;5;129;01min\u001B[39;00m Wood:\n\u001B[1;32m---> 31\u001B[0m     \u001B[38;5;28;01mif\u001B[39;00m \u001B[38;5;28;43mfloat\u001B[39;49m\u001B[43m(\u001B[49m\u001B[43mx\u001B[49m\u001B[43m)\u001B[49m \u001B[38;5;241m>\u001B[39m \u001B[38;5;241m0.1\u001B[39m:\n\u001B[0;32m     32\u001B[0m         WoodB\u001B[38;5;241m.\u001B[39mappend(\u001B[38;5;124m'\u001B[39m\u001B[38;5;124mlogging\u001B[39m\u001B[38;5;124m'\u001B[39m)\n\u001B[0;32m     33\u001B[0m         WoodCount \u001B[38;5;241m+\u001B[39m\u001B[38;5;241m=\u001B[39m \u001B[38;5;241m1\u001B[39m\n",
      "\u001B[1;31mValueError\u001B[0m: could not convert string to float: '~ 1'"
     ]
    }
   ],
   "source": [
    "OilB = []\n",
    "OilCount = 0\n",
    "for x in Oil:\n",
    "    if float(x) > 0.1:\n",
    "        OilB.append('oil mine')\n",
    "        OilCount += 1\n",
    "    else:\n",
    "        OilB.append(' ')\n",
    "\n",
    "StoneB = []\n",
    "StoneCount = 0\n",
    "for x in Stone:\n",
    "    if float(x) > 0.1:\n",
    "        StoneB.append('quarry')\n",
    "        StoneCount += 1\n",
    "    else:\n",
    "        StoneB.append(' ')\n",
    "        \n",
    "CopperB = []\n",
    "CopperCount = 0\n",
    "for x in Copper:\n",
    "    if float(x) > 0.1:\n",
    "        CopperB.append('copper mine')\n",
    "        CopperCount += 1\n",
    "    else:\n",
    "        CopperB.append(' ')\n",
    "        \n",
    "WoodB = []\n",
    "WoodCount = 0\n",
    "for x in Wood:\n",
    "    if float(x) > 0.1:\n",
    "        WoodB.append('logging')\n",
    "        WoodCount += 1\n",
    "    else:\n",
    "        WoodB.append(' ')\n",
    "        \n",
    "IronB = []\n",
    "IronCount = 0\n",
    "for x in Iron:\n",
    "    if float(x) > 0.1:\n",
    "        IronB.append('iron mine')\n",
    "        IronCount += 1\n",
    "    else:\n",
    "        IronB.append(' ')\n",
    "        \n",
    "GoldB = []\n",
    "GoldCount = 0\n",
    "for x in Gold:\n",
    "    if float(x) > 0.1:\n",
    "        GoldB.append('gold mine')\n",
    "        GoldCount += 1\n",
    "    else:\n",
    "        GoldB.append(' ')\n",
    "        \n",
    "TungstenB = []\n",
    "TungstenCount = 0\n",
    "for x in Tungsten:\n",
    "    if float(x) > 0.1:\n",
    "        TungstenB.append('tungsten mine')\n",
    "        TungstenCount += 1\n",
    "    else:\n",
    "        TungstenB.append(' ')\n",
    "        \n",
    "AluminumB = []\n",
    "AluminumCount = 0\n",
    "for x in Aluminum:\n",
    "    if float(x) > 0.1:\n",
    "        AluminumB.append('aluminum mine')\n",
    "        AluminumCount += 1\n",
    "    else:\n",
    "        AluminumB.append(' ')\n",
    "        \n",
    "UraniumB = []\n",
    "UraniumCount = 0\n",
    "for x in Uranium:\n",
    "    if float(x) > 0.1:\n",
    "        UraniumB.append('uranium mine')\n",
    "        UraniumCount += 1\n",
    "    else:\n",
    "        UraniumB.append(' ')"
   ]
  },
  {
   "cell_type": "code",
   "execution_count": null,
   "id": "f5f0b633",
   "metadata": {},
   "outputs": [],
   "source": [
    "mining = pd.DataFrame(\n",
    "    {\n",
    "        \"Iron\": IronB,\n",
    "        \"Oil\": OilB,\n",
    "        \"Stone\": StoneB,\n",
    "        \"Aluminum\": AluminumB,\n",
    "        \"Gold\": GoldB,\n",
    "        \"Tungsten\": TungstenB,\n",
    "        \"Uranium\": UraniumB,\n",
    "        \"Copper\": CopperB,\n",
    "        \"Wood\": WoodB\n",
    "    },\n",
    "index=Cities)\n",
    "mining"
   ]
  },
  {
   "cell_type": "code",
   "execution_count": null,
   "id": "15f4e413",
   "metadata": {},
   "outputs": [],
   "source": [
    "mining.to_excel(\"output.xlsx\", sheet_name='Sheet1')\n",
    "mining.to_csv(\"output2.csv\")"
   ]
  },
  {
   "cell_type": "code",
   "execution_count": null,
   "id": "4b2c2916",
   "metadata": {
    "scrolled": true
   },
   "outputs": [],
   "source": [
    "print(f'With a total of {OilCount+CopperCount+IronCount+GoldCount+TungstenCount+AluminumCount+UraniumCount} Mines {StoneCount} Quarries {WoodCount} Loggings or **${(OilCount+CopperCount+IronCount+GoldCount+TungstenCount+AluminumCount+UraniumCount)*200+StoneCount*20+WoodCount*10},000.00**')"
   ]
  },
  {
   "cell_type": "code",
   "execution_count": null,
   "id": "6b42673f-f4ba-4024-b7a7-b9aeb2d99dc4",
   "metadata": {},
   "outputs": [],
   "source": [
    "combine = pd.concat([resource, mining], axis=1)\n",
    "combine.to_csv(\"output3.csv\")"
   ]
  }
 ],
 "metadata": {
  "kernelspec": {
   "display_name": "Python 3 (ipykernel)",
   "language": "python",
   "name": "python3"
  },
  "language_info": {
   "codemirror_mode": {
    "name": "ipython",
    "version": 3
   },
   "file_extension": ".py",
   "mimetype": "text/x-python",
   "name": "python",
   "nbconvert_exporter": "python",
   "pygments_lexer": "ipython3",
   "version": "3.10.2"
  },
  "toc-autonumbering": true,
  "toc-showcode": true,
  "toc-showmarkdowntxt": true,
  "toc-showtags": true
 },
 "nbformat": 4,
 "nbformat_minor": 5
}