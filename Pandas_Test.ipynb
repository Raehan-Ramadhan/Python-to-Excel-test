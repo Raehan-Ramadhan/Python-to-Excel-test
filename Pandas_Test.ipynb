{
 "cells": [
  {
   "cell_type": "code",
   "execution_count": 11,
   "id": "556cdf0e",
   "metadata": {},
   "outputs": [],
   "source": [
    "import numpy as np\n",
    "import pandas as pd"
   ]
  },
  {
   "cell_type": "code",
   "execution_count": 12,
   "id": "f7e4d55d",
   "metadata": {
    "scrolled": true,
    "tags": []
   },
   "outputs": [
    {
     "data": {
      "text/plain": "0    1.0\n1    2.0\n2    NaN\n3    4.0\n4    5.0\n5    5.0\ndtype: float64"
     },
     "execution_count": 12,
     "metadata": {},
     "output_type": "execute_result"
    }
   ],
   "source": [
    "pd.Series([1, 2, np.nan, 4, 5, 5])"
   ]
  },
  {
   "cell_type": "code",
   "execution_count": 13,
   "id": "13ba66e3",
   "metadata": {
    "tags": []
   },
   "outputs": [
    {
     "data": {
      "text/plain": "DatetimeIndex(['2022-02-01', '2022-02-02', '2022-02-03', '2022-02-04',\n               '2022-02-05', '2022-02-06'],\n              dtype='datetime64[ns]', freq='D')"
     },
     "execution_count": 13,
     "metadata": {},
     "output_type": "execute_result"
    }
   ],
   "source": [
    "dates = pd.date_range(\"20220201\", periods=6)\n",
    "dates"
   ]
  },
  {
   "cell_type": "code",
   "execution_count": 14,
   "id": "11f05092",
   "metadata": {},
   "outputs": [
    {
     "data": {
      "text/plain": "            Cat Empire      USSR  Great Baguette  Ice Empire\n2022-02-01    0.324307  0.400777        0.424207    0.154122\n2022-02-02   -1.336283  0.156262        0.988262   -0.501131\n2022-02-03   -1.948155  0.335105        1.430600    1.480582\n2022-02-04   -1.295534 -0.015529        1.704919    0.301075\n2022-02-05    0.578555 -1.501240        0.801189   -1.461385\n2022-02-06    0.109062  0.096930        0.706752    0.141746",
      "text/html": "<div>\n<style scoped>\n    .dataframe tbody tr th:only-of-type {\n        vertical-align: middle;\n    }\n\n    .dataframe tbody tr th {\n        vertical-align: top;\n    }\n\n    .dataframe thead th {\n        text-align: right;\n    }\n</style>\n<table border=\"1\" class=\"dataframe\">\n  <thead>\n    <tr style=\"text-align: right;\">\n      <th></th>\n      <th>Cat Empire</th>\n      <th>USSR</th>\n      <th>Great Baguette</th>\n      <th>Ice Empire</th>\n    </tr>\n  </thead>\n  <tbody>\n    <tr>\n      <th>2022-02-01</th>\n      <td>0.324307</td>\n      <td>0.400777</td>\n      <td>0.424207</td>\n      <td>0.154122</td>\n    </tr>\n    <tr>\n      <th>2022-02-02</th>\n      <td>-1.336283</td>\n      <td>0.156262</td>\n      <td>0.988262</td>\n      <td>-0.501131</td>\n    </tr>\n    <tr>\n      <th>2022-02-03</th>\n      <td>-1.948155</td>\n      <td>0.335105</td>\n      <td>1.430600</td>\n      <td>1.480582</td>\n    </tr>\n    <tr>\n      <th>2022-02-04</th>\n      <td>-1.295534</td>\n      <td>-0.015529</td>\n      <td>1.704919</td>\n      <td>0.301075</td>\n    </tr>\n    <tr>\n      <th>2022-02-05</th>\n      <td>0.578555</td>\n      <td>-1.501240</td>\n      <td>0.801189</td>\n      <td>-1.461385</td>\n    </tr>\n    <tr>\n      <th>2022-02-06</th>\n      <td>0.109062</td>\n      <td>0.096930</td>\n      <td>0.706752</td>\n      <td>0.141746</td>\n    </tr>\n  </tbody>\n</table>\n</div>"
     },
     "execution_count": 14,
     "metadata": {},
     "output_type": "execute_result"
    }
   ],
   "source": [
    "df = pd.DataFrame(np.random.randn(6, 4), index=dates, columns=[\"Cat Empire\", \"USSR\", \"Great Baguette\", \"Ice Empire\"])\n",
    "df"
   ]
  },
  {
   "cell_type": "code",
   "execution_count": 15,
   "id": "a006333c",
   "metadata": {
    "scrolled": true,
    "tags": []
   },
   "outputs": [],
   "source": [
    "with open('ResourceList.txt') as f:\n",
    "    lines = f.readlines()\n",
    "    \n",
    "Cities = [line.split('~')[0].strip() for line in lines]\n",
    "\n",
    "Oil = []\n",
    "for line in lines:\n",
    "    if (line.find('oil') != -1):\n",
    "        Oil.append(line[line.find('oil')-4:line.find('oil')-1])\n",
    "    else:\n",
    "        Oil.append(np.nan)\n",
    "        \n",
    "Stone = []\n",
    "for line in lines:\n",
    "    if (line.find('stone') != -1):\n",
    "        Stone.append(line[line.find('stone')-4:line.find('stone')-1])\n",
    "    else:\n",
    "        Stone.append(np.nan)\n",
    "        \n",
    "Copper = []\n",
    "for line in lines:\n",
    "    if (line.find('copper') != -1):\n",
    "        Copper.append(line[line.find('copper')-4:line.find('copper')-1])\n",
    "    else:\n",
    "        Copper.append(np.nan)\n",
    "        \n",
    "Wood = []\n",
    "for line in lines:\n",
    "    if (line.find('wood') != -1):\n",
    "        Wood.append(line[line.find('wood')-4:line.find('wood')-1])\n",
    "    else:\n",
    "        Wood.append(np.nan)\n",
    "        \n",
    "Tungsten = []\n",
    "for line in lines:\n",
    "    if (line.find('tungsten') != -1):\n",
    "        Tungsten.append(line[line.find('tungsten')-4:line.find('tungsten')-1])\n",
    "    else:\n",
    "        Tungsten.append(np.nan)\n",
    "        \n",
    "Aluminum = []\n",
    "for line in lines:\n",
    "    if (line.find('aluminum') != -1):\n",
    "        Aluminum.append(line[line.find('aluminum')-4:line.find('aluminum')-1])\n",
    "    else:\n",
    "        Aluminum.append(np.nan)\n",
    "        \n",
    "Gold = []\n",
    "for line in lines:\n",
    "    if (line.find('gold') != -1):\n",
    "        Gold.append(line[line.find('gold')-4:line.find('gold')-1])\n",
    "    else:\n",
    "        Gold.append(np.nan)\n",
    "        \n",
    "Iron = []\n",
    "for line in lines:\n",
    "    if (line.find('iron') != -1):\n",
    "        Iron.append(line[line.find('iron')-4:line.find('iron')-1])\n",
    "    else:\n",
    "        Iron.append(np.nan)\n",
    "        \n",
    "Uranium = []\n",
    "for line in lines:\n",
    "    if (line.find('uranium') != -1):\n",
    "        Uranium.append(line[line.find('uranium')-4:line.find('uranium')-1])\n",
    "    else:\n",
    "        Uranium.append(np.nan)"
   ]
  },
  {
   "cell_type": "code",
   "execution_count": 16,
   "id": "91e01e99",
   "metadata": {
    "tags": []
   },
   "outputs": [
    {
     "data": {
      "text/plain": "             Iron  Oil Stone Aluminum Gold Tungsten Uranium Copper Wood\nUrumqi        NaN  0.2   0.8      NaN  NaN      NaN     NaN    NaN  NaN\nLanzhou       NaN  0.1   0.3      NaN  NaN      NaN     NaN    NaN  NaN\nHohhot        0.4  NaN   0.3      NaN  NaN      NaN     NaN    NaN  NaN\nXining        NaN  0.1   0.7      NaN  NaN      NaN     NaN    NaN  NaN\nYinchuan      NaN  0.2   0.4      NaN  NaN      NaN     NaN    NaN  0.1\nXi'An         NaN  0.1   0.3      NaN  NaN      NaN     NaN    NaN  0.3\nLhasa         NaN  0.2   0.9      NaN  NaN      NaN     NaN    NaN  0.3\nChengdu       NaN  0.3   0.1      NaN  NaN      NaN     NaN    0.7  1.1\nChongqing     NaN  0.3   0.1      NaN  NaN      NaN     NaN    0.7  1.1\nKunming       NaN  0.1   0.2      NaN  NaN      NaN     NaN    0.7  0.7\nGuiyang       NaN  0.2   0.1      NaN  NaN      NaN     NaN    1.0  0.8\nNanning       NaN  NaN   0.3      NaN  NaN      0.3     NaN    NaN  1.0\nOlgii         NaN  NaN   0.3      NaN  NaN      0.3     NaN    0.7  0.1\nUlaangom      NaN  NaN   0.1      NaN  NaN      0.3     NaN    0.7  NaN\nDund-Us       NaN  NaN   NaN      NaN  NaN      0.3     NaN    0.7  0.2\nUliastay      NaN  NaN   NaN      NaN  NaN      NaN     NaN    NaN  NaN\nMoron         NaN  NaN   0.2      0.7  0.3      NaN     NaN    NaN  0.1\nTsetserleg    NaN  NaN   0.2      0.7  0.3      NaN     NaN    NaN  0.2\nBayankhongor  NaN  NaN   NaN      NaN  0.5      NaN     NaN    NaN  NaN\nArvayheer     NaN  NaN   0.2      NaN  NaN      NaN     NaN    NaN  0.1\nBulgan        NaN  NaN   0.1      NaN  NaN      NaN     NaN    NaN  NaN\nErdenet       NaN  NaN   NaN      0.7  0.3      NaN     NaN    NaN  0.2\nDalandzadgad  NaN  0.5   NaN      NaN  NaN      NaN     NaN    0.5  NaN\nSuchboatar    0.7  NaN   0.2      NaN  0.3      NaN     NaN    NaN  0.1\nDarhan        0.7  NaN   0.2      NaN  0.3      NaN     NaN    NaN  0.2\nDzuunharaa    NaN  NaN   NaN      NaN  0.3      NaN     NaN    NaN  NaN\nUlaanbaatar   NaN  NaN   0.2      NaN  0.5      NaN     NaN    NaN  0.1\nBuyant-Uhaa   NaN  0.5   0.1      NaN  NaN      NaN     NaN    0.5  NaN\nOndorhaan     NaN  NaN   NaN      NaN  NaN      NaN     NaN    NaN  0.2\nBaruun Urt    NaN  NaN   NaN      NaN  NaN      NaN     NaN    NaN  NaN\nChoybalsan    NaN  NaN   0.2      NaN  NaN      NaN     NaN    NaN  0.1\nTaiyuan       0.7  0.1   0.1      2.0  NaN      NaN     NaN    NaN  0.1\nZhengzhou     NaN  NaN   0.4      NaN  NaN      NaN     NaN    NaN  0.3\nHefei         NaN  NaN   0.1      NaN  NaN      NaN     0.3    NaN  0.5\nWuhan         NaN  0.1   0.2      NaN  NaN      NaN     NaN    NaN  0.4\nNanchang      NaN  NaN   0.2      NaN  NaN      0.3     NaN    NaN  0.8\nChangsha      NaN  NaN   0.1      NaN  NaN      NaN     NaN    NaN  1.1",
      "text/html": "<div>\n<style scoped>\n    .dataframe tbody tr th:only-of-type {\n        vertical-align: middle;\n    }\n\n    .dataframe tbody tr th {\n        vertical-align: top;\n    }\n\n    .dataframe thead th {\n        text-align: right;\n    }\n</style>\n<table border=\"1\" class=\"dataframe\">\n  <thead>\n    <tr style=\"text-align: right;\">\n      <th></th>\n      <th>Iron</th>\n      <th>Oil</th>\n      <th>Stone</th>\n      <th>Aluminum</th>\n      <th>Gold</th>\n      <th>Tungsten</th>\n      <th>Uranium</th>\n      <th>Copper</th>\n      <th>Wood</th>\n    </tr>\n  </thead>\n  <tbody>\n    <tr>\n      <th>Urumqi</th>\n      <td>NaN</td>\n      <td>0.2</td>\n      <td>0.8</td>\n      <td>NaN</td>\n      <td>NaN</td>\n      <td>NaN</td>\n      <td>NaN</td>\n      <td>NaN</td>\n      <td>NaN</td>\n    </tr>\n    <tr>\n      <th>Lanzhou</th>\n      <td>NaN</td>\n      <td>0.1</td>\n      <td>0.3</td>\n      <td>NaN</td>\n      <td>NaN</td>\n      <td>NaN</td>\n      <td>NaN</td>\n      <td>NaN</td>\n      <td>NaN</td>\n    </tr>\n    <tr>\n      <th>Hohhot</th>\n      <td>0.4</td>\n      <td>NaN</td>\n      <td>0.3</td>\n      <td>NaN</td>\n      <td>NaN</td>\n      <td>NaN</td>\n      <td>NaN</td>\n      <td>NaN</td>\n      <td>NaN</td>\n    </tr>\n    <tr>\n      <th>Xining</th>\n      <td>NaN</td>\n      <td>0.1</td>\n      <td>0.7</td>\n      <td>NaN</td>\n      <td>NaN</td>\n      <td>NaN</td>\n      <td>NaN</td>\n      <td>NaN</td>\n      <td>NaN</td>\n    </tr>\n    <tr>\n      <th>Yinchuan</th>\n      <td>NaN</td>\n      <td>0.2</td>\n      <td>0.4</td>\n      <td>NaN</td>\n      <td>NaN</td>\n      <td>NaN</td>\n      <td>NaN</td>\n      <td>NaN</td>\n      <td>0.1</td>\n    </tr>\n    <tr>\n      <th>Xi'An</th>\n      <td>NaN</td>\n      <td>0.1</td>\n      <td>0.3</td>\n      <td>NaN</td>\n      <td>NaN</td>\n      <td>NaN</td>\n      <td>NaN</td>\n      <td>NaN</td>\n      <td>0.3</td>\n    </tr>\n    <tr>\n      <th>Lhasa</th>\n      <td>NaN</td>\n      <td>0.2</td>\n      <td>0.9</td>\n      <td>NaN</td>\n      <td>NaN</td>\n      <td>NaN</td>\n      <td>NaN</td>\n      <td>NaN</td>\n      <td>0.3</td>\n    </tr>\n    <tr>\n      <th>Chengdu</th>\n      <td>NaN</td>\n      <td>0.3</td>\n      <td>0.1</td>\n      <td>NaN</td>\n      <td>NaN</td>\n      <td>NaN</td>\n      <td>NaN</td>\n      <td>0.7</td>\n      <td>1.1</td>\n    </tr>\n    <tr>\n      <th>Chongqing</th>\n      <td>NaN</td>\n      <td>0.3</td>\n      <td>0.1</td>\n      <td>NaN</td>\n      <td>NaN</td>\n      <td>NaN</td>\n      <td>NaN</td>\n      <td>0.7</td>\n      <td>1.1</td>\n    </tr>\n    <tr>\n      <th>Kunming</th>\n      <td>NaN</td>\n      <td>0.1</td>\n      <td>0.2</td>\n      <td>NaN</td>\n      <td>NaN</td>\n      <td>NaN</td>\n      <td>NaN</td>\n      <td>0.7</td>\n      <td>0.7</td>\n    </tr>\n    <tr>\n      <th>Guiyang</th>\n      <td>NaN</td>\n      <td>0.2</td>\n      <td>0.1</td>\n      <td>NaN</td>\n      <td>NaN</td>\n      <td>NaN</td>\n      <td>NaN</td>\n      <td>1.0</td>\n      <td>0.8</td>\n    </tr>\n    <tr>\n      <th>Nanning</th>\n      <td>NaN</td>\n      <td>NaN</td>\n      <td>0.3</td>\n      <td>NaN</td>\n      <td>NaN</td>\n      <td>0.3</td>\n      <td>NaN</td>\n      <td>NaN</td>\n      <td>1.0</td>\n    </tr>\n    <tr>\n      <th>Olgii</th>\n      <td>NaN</td>\n      <td>NaN</td>\n      <td>0.3</td>\n      <td>NaN</td>\n      <td>NaN</td>\n      <td>0.3</td>\n      <td>NaN</td>\n      <td>0.7</td>\n      <td>0.1</td>\n    </tr>\n    <tr>\n      <th>Ulaangom</th>\n      <td>NaN</td>\n      <td>NaN</td>\n      <td>0.1</td>\n      <td>NaN</td>\n      <td>NaN</td>\n      <td>0.3</td>\n      <td>NaN</td>\n      <td>0.7</td>\n      <td>NaN</td>\n    </tr>\n    <tr>\n      <th>Dund-Us</th>\n      <td>NaN</td>\n      <td>NaN</td>\n      <td>NaN</td>\n      <td>NaN</td>\n      <td>NaN</td>\n      <td>0.3</td>\n      <td>NaN</td>\n      <td>0.7</td>\n      <td>0.2</td>\n    </tr>\n    <tr>\n      <th>Uliastay</th>\n      <td>NaN</td>\n      <td>NaN</td>\n      <td>NaN</td>\n      <td>NaN</td>\n      <td>NaN</td>\n      <td>NaN</td>\n      <td>NaN</td>\n      <td>NaN</td>\n      <td>NaN</td>\n    </tr>\n    <tr>\n      <th>Moron</th>\n      <td>NaN</td>\n      <td>NaN</td>\n      <td>0.2</td>\n      <td>0.7</td>\n      <td>0.3</td>\n      <td>NaN</td>\n      <td>NaN</td>\n      <td>NaN</td>\n      <td>0.1</td>\n    </tr>\n    <tr>\n      <th>Tsetserleg</th>\n      <td>NaN</td>\n      <td>NaN</td>\n      <td>0.2</td>\n      <td>0.7</td>\n      <td>0.3</td>\n      <td>NaN</td>\n      <td>NaN</td>\n      <td>NaN</td>\n      <td>0.2</td>\n    </tr>\n    <tr>\n      <th>Bayankhongor</th>\n      <td>NaN</td>\n      <td>NaN</td>\n      <td>NaN</td>\n      <td>NaN</td>\n      <td>0.5</td>\n      <td>NaN</td>\n      <td>NaN</td>\n      <td>NaN</td>\n      <td>NaN</td>\n    </tr>\n    <tr>\n      <th>Arvayheer</th>\n      <td>NaN</td>\n      <td>NaN</td>\n      <td>0.2</td>\n      <td>NaN</td>\n      <td>NaN</td>\n      <td>NaN</td>\n      <td>NaN</td>\n      <td>NaN</td>\n      <td>0.1</td>\n    </tr>\n    <tr>\n      <th>Bulgan</th>\n      <td>NaN</td>\n      <td>NaN</td>\n      <td>0.1</td>\n      <td>NaN</td>\n      <td>NaN</td>\n      <td>NaN</td>\n      <td>NaN</td>\n      <td>NaN</td>\n      <td>NaN</td>\n    </tr>\n    <tr>\n      <th>Erdenet</th>\n      <td>NaN</td>\n      <td>NaN</td>\n      <td>NaN</td>\n      <td>0.7</td>\n      <td>0.3</td>\n      <td>NaN</td>\n      <td>NaN</td>\n      <td>NaN</td>\n      <td>0.2</td>\n    </tr>\n    <tr>\n      <th>Dalandzadgad</th>\n      <td>NaN</td>\n      <td>0.5</td>\n      <td>NaN</td>\n      <td>NaN</td>\n      <td>NaN</td>\n      <td>NaN</td>\n      <td>NaN</td>\n      <td>0.5</td>\n      <td>NaN</td>\n    </tr>\n    <tr>\n      <th>Suchboatar</th>\n      <td>0.7</td>\n      <td>NaN</td>\n      <td>0.2</td>\n      <td>NaN</td>\n      <td>0.3</td>\n      <td>NaN</td>\n      <td>NaN</td>\n      <td>NaN</td>\n      <td>0.1</td>\n    </tr>\n    <tr>\n      <th>Darhan</th>\n      <td>0.7</td>\n      <td>NaN</td>\n      <td>0.2</td>\n      <td>NaN</td>\n      <td>0.3</td>\n      <td>NaN</td>\n      <td>NaN</td>\n      <td>NaN</td>\n      <td>0.2</td>\n    </tr>\n    <tr>\n      <th>Dzuunharaa</th>\n      <td>NaN</td>\n      <td>NaN</td>\n      <td>NaN</td>\n      <td>NaN</td>\n      <td>0.3</td>\n      <td>NaN</td>\n      <td>NaN</td>\n      <td>NaN</td>\n      <td>NaN</td>\n    </tr>\n    <tr>\n      <th>Ulaanbaatar</th>\n      <td>NaN</td>\n      <td>NaN</td>\n      <td>0.2</td>\n      <td>NaN</td>\n      <td>0.5</td>\n      <td>NaN</td>\n      <td>NaN</td>\n      <td>NaN</td>\n      <td>0.1</td>\n    </tr>\n    <tr>\n      <th>Buyant-Uhaa</th>\n      <td>NaN</td>\n      <td>0.5</td>\n      <td>0.1</td>\n      <td>NaN</td>\n      <td>NaN</td>\n      <td>NaN</td>\n      <td>NaN</td>\n      <td>0.5</td>\n      <td>NaN</td>\n    </tr>\n    <tr>\n      <th>Ondorhaan</th>\n      <td>NaN</td>\n      <td>NaN</td>\n      <td>NaN</td>\n      <td>NaN</td>\n      <td>NaN</td>\n      <td>NaN</td>\n      <td>NaN</td>\n      <td>NaN</td>\n      <td>0.2</td>\n    </tr>\n    <tr>\n      <th>Baruun Urt</th>\n      <td>NaN</td>\n      <td>NaN</td>\n      <td>NaN</td>\n      <td>NaN</td>\n      <td>NaN</td>\n      <td>NaN</td>\n      <td>NaN</td>\n      <td>NaN</td>\n      <td>NaN</td>\n    </tr>\n    <tr>\n      <th>Choybalsan</th>\n      <td>NaN</td>\n      <td>NaN</td>\n      <td>0.2</td>\n      <td>NaN</td>\n      <td>NaN</td>\n      <td>NaN</td>\n      <td>NaN</td>\n      <td>NaN</td>\n      <td>0.1</td>\n    </tr>\n    <tr>\n      <th>Taiyuan</th>\n      <td>0.7</td>\n      <td>0.1</td>\n      <td>0.1</td>\n      <td>2.0</td>\n      <td>NaN</td>\n      <td>NaN</td>\n      <td>NaN</td>\n      <td>NaN</td>\n      <td>0.1</td>\n    </tr>\n    <tr>\n      <th>Zhengzhou</th>\n      <td>NaN</td>\n      <td>NaN</td>\n      <td>0.4</td>\n      <td>NaN</td>\n      <td>NaN</td>\n      <td>NaN</td>\n      <td>NaN</td>\n      <td>NaN</td>\n      <td>0.3</td>\n    </tr>\n    <tr>\n      <th>Hefei</th>\n      <td>NaN</td>\n      <td>NaN</td>\n      <td>0.1</td>\n      <td>NaN</td>\n      <td>NaN</td>\n      <td>NaN</td>\n      <td>0.3</td>\n      <td>NaN</td>\n      <td>0.5</td>\n    </tr>\n    <tr>\n      <th>Wuhan</th>\n      <td>NaN</td>\n      <td>0.1</td>\n      <td>0.2</td>\n      <td>NaN</td>\n      <td>NaN</td>\n      <td>NaN</td>\n      <td>NaN</td>\n      <td>NaN</td>\n      <td>0.4</td>\n    </tr>\n    <tr>\n      <th>Nanchang</th>\n      <td>NaN</td>\n      <td>NaN</td>\n      <td>0.2</td>\n      <td>NaN</td>\n      <td>NaN</td>\n      <td>0.3</td>\n      <td>NaN</td>\n      <td>NaN</td>\n      <td>0.8</td>\n    </tr>\n    <tr>\n      <th>Changsha</th>\n      <td>NaN</td>\n      <td>NaN</td>\n      <td>0.1</td>\n      <td>NaN</td>\n      <td>NaN</td>\n      <td>NaN</td>\n      <td>NaN</td>\n      <td>NaN</td>\n      <td>1.1</td>\n    </tr>\n  </tbody>\n</table>\n</div>"
     },
     "execution_count": 16,
     "metadata": {},
     "output_type": "execute_result"
    }
   ],
   "source": [
    "resource = pd.DataFrame(\n",
    "    {\n",
    "        \"Iron\": Iron,\n",
    "        \"Oil\": Oil,\n",
    "        \"Stone\": Stone,\n",
    "        \"Aluminum\": Aluminum,\n",
    "        \"Gold\": Gold,\n",
    "        \"Tungsten\": Tungsten,\n",
    "        \"Uranium\": Uranium,\n",
    "        \"Copper\": Copper,\n",
    "        \"Wood\": Wood\n",
    "    },\n",
    "index=Cities)\n",
    "resource"
   ]
  },
  {
   "cell_type": "code",
   "execution_count": 17,
   "id": "0eed34d0-280c-4e6a-b00b-01ed01680f15",
   "metadata": {},
   "outputs": [],
   "source": [
    "resource.to_csv(\"output1.csv\")"
   ]
  },
  {
   "cell_type": "code",
   "execution_count": 18,
   "id": "b106f9a7",
   "metadata": {},
   "outputs": [],
   "source": [
    "OilB = []\n",
    "OilCount = 0\n",
    "for x in Oil:\n",
    "    if float(x) > 0.1:\n",
    "        OilB.append('oil mine')\n",
    "        OilCount += 1\n",
    "    else:\n",
    "        OilB.append(' ')\n",
    "\n",
    "StoneB = []\n",
    "StoneCount = 0\n",
    "for x in Stone:\n",
    "    if float(x) > 0.1:\n",
    "        StoneB.append('quarry')\n",
    "        StoneCount += 1\n",
    "    else:\n",
    "        StoneB.append(' ')\n",
    "        \n",
    "CopperB = []\n",
    "CopperCount = 0\n",
    "for x in Copper:\n",
    "    if float(x) > 0.1:\n",
    "        CopperB.append('copper mine')\n",
    "        CopperCount += 1\n",
    "    else:\n",
    "        CopperB.append(' ')\n",
    "        \n",
    "WoodB = []\n",
    "WoodCount = 0\n",
    "for x in Wood:\n",
    "    if float(x) > 0.1:\n",
    "        WoodB.append('logging')\n",
    "        WoodCount += 1\n",
    "    else:\n",
    "        WoodB.append(' ')\n",
    "        \n",
    "IronB = []\n",
    "IronCount = 0\n",
    "for x in Iron:\n",
    "    if float(x) > 0.1:\n",
    "        IronB.append('iron mine')\n",
    "        IronCount += 1\n",
    "    else:\n",
    "        IronB.append(' ')\n",
    "        \n",
    "GoldB = []\n",
    "GoldCount = 0\n",
    "for x in Gold:\n",
    "    if float(x) > 0.1:\n",
    "        GoldB.append('gold mine')\n",
    "        GoldCount += 1\n",
    "    else:\n",
    "        GoldB.append(' ')\n",
    "        \n",
    "TungstenB = []\n",
    "TungstenCount = 0\n",
    "for x in Tungsten:\n",
    "    if float(x) > 0.1:\n",
    "        TungstenB.append('tungsten mine')\n",
    "        TungstenCount += 1\n",
    "    else:\n",
    "        TungstenB.append(' ')\n",
    "        \n",
    "AluminumB = []\n",
    "AluminumCount = 0\n",
    "for x in Aluminum:\n",
    "    if float(x) > 0.1:\n",
    "        AluminumB.append('aluminum mine')\n",
    "        AluminumCount += 1\n",
    "    else:\n",
    "        AluminumB.append(' ')\n",
    "        \n",
    "UraniumB = []\n",
    "UraniumCount = 0\n",
    "for x in Uranium:\n",
    "    if float(x) > 0.1:\n",
    "        UraniumB.append('uranium mine')\n",
    "        UraniumCount += 1\n",
    "    else:\n",
    "        UraniumB.append(' ')"
   ]
  },
  {
   "cell_type": "code",
   "execution_count": 19,
   "id": "f5f0b633",
   "metadata": {},
   "outputs": [
    {
     "data": {
      "text/plain": "                   Iron       Oil   Stone       Aluminum       Gold  \\\nUrumqi                   oil mine  quarry                             \nLanzhou                            quarry                             \nHohhot        iron mine            quarry                             \nXining                             quarry                             \nYinchuan                 oil mine  quarry                             \nXi'An                              quarry                             \nLhasa                    oil mine  quarry                             \nChengdu                  oil mine                                     \nChongqing                oil mine                                     \nKunming                            quarry                             \nGuiyang                  oil mine                                     \nNanning                            quarry                             \nOlgii                              quarry                             \nUlaangom                                                              \nDund-Us                                                               \nUliastay                                                              \nMoron                              quarry  aluminum mine  gold mine   \nTsetserleg                         quarry  aluminum mine  gold mine   \nBayankhongor                                              gold mine   \nArvayheer                          quarry                             \nBulgan                                                                \nErdenet                                    aluminum mine  gold mine   \nDalandzadgad             oil mine                                     \nSuchboatar    iron mine            quarry                 gold mine   \nDarhan        iron mine            quarry                 gold mine   \nDzuunharaa                                                gold mine   \nUlaanbaatar                        quarry                 gold mine   \nBuyant-Uhaa              oil mine                                     \nOndorhaan                                                             \nBaruun Urt                                                            \nChoybalsan                         quarry                             \nTaiyuan       iron mine                    aluminum mine              \nZhengzhou                          quarry                             \nHefei                                                                 \nWuhan                              quarry                             \nNanchang                           quarry                             \nChangsha                                                              \n\n                   Tungsten       Uranium       Copper     Wood  \nUrumqi                                                           \nLanzhou                                                          \nHohhot                                                           \nXining                                                           \nYinchuan                                                         \nXi'An                                                   logging  \nLhasa                                                   logging  \nChengdu                                    copper mine  logging  \nChongqing                                  copper mine  logging  \nKunming                                    copper mine  logging  \nGuiyang                                    copper mine  logging  \nNanning       tungsten mine                             logging  \nOlgii         tungsten mine                copper mine           \nUlaangom      tungsten mine                copper mine           \nDund-Us       tungsten mine                copper mine  logging  \nUliastay                                                         \nMoron                                                            \nTsetserleg                                              logging  \nBayankhongor                                                     \nArvayheer                                                        \nBulgan                                                           \nErdenet                                                 logging  \nDalandzadgad                               copper mine           \nSuchboatar                                                       \nDarhan                                                  logging  \nDzuunharaa                                                       \nUlaanbaatar                                                      \nBuyant-Uhaa                                copper mine           \nOndorhaan                                               logging  \nBaruun Urt                                                       \nChoybalsan                                                       \nTaiyuan                                                          \nZhengzhou                                               logging  \nHefei                        uranium mine               logging  \nWuhan                                                   logging  \nNanchang      tungsten mine                             logging  \nChangsha                                                logging  ",
      "text/html": "<div>\n<style scoped>\n    .dataframe tbody tr th:only-of-type {\n        vertical-align: middle;\n    }\n\n    .dataframe tbody tr th {\n        vertical-align: top;\n    }\n\n    .dataframe thead th {\n        text-align: right;\n    }\n</style>\n<table border=\"1\" class=\"dataframe\">\n  <thead>\n    <tr style=\"text-align: right;\">\n      <th></th>\n      <th>Iron</th>\n      <th>Oil</th>\n      <th>Stone</th>\n      <th>Aluminum</th>\n      <th>Gold</th>\n      <th>Tungsten</th>\n      <th>Uranium</th>\n      <th>Copper</th>\n      <th>Wood</th>\n    </tr>\n  </thead>\n  <tbody>\n    <tr>\n      <th>Urumqi</th>\n      <td></td>\n      <td>oil mine</td>\n      <td>quarry</td>\n      <td></td>\n      <td></td>\n      <td></td>\n      <td></td>\n      <td></td>\n      <td></td>\n    </tr>\n    <tr>\n      <th>Lanzhou</th>\n      <td></td>\n      <td></td>\n      <td>quarry</td>\n      <td></td>\n      <td></td>\n      <td></td>\n      <td></td>\n      <td></td>\n      <td></td>\n    </tr>\n    <tr>\n      <th>Hohhot</th>\n      <td>iron mine</td>\n      <td></td>\n      <td>quarry</td>\n      <td></td>\n      <td></td>\n      <td></td>\n      <td></td>\n      <td></td>\n      <td></td>\n    </tr>\n    <tr>\n      <th>Xining</th>\n      <td></td>\n      <td></td>\n      <td>quarry</td>\n      <td></td>\n      <td></td>\n      <td></td>\n      <td></td>\n      <td></td>\n      <td></td>\n    </tr>\n    <tr>\n      <th>Yinchuan</th>\n      <td></td>\n      <td>oil mine</td>\n      <td>quarry</td>\n      <td></td>\n      <td></td>\n      <td></td>\n      <td></td>\n      <td></td>\n      <td></td>\n    </tr>\n    <tr>\n      <th>Xi'An</th>\n      <td></td>\n      <td></td>\n      <td>quarry</td>\n      <td></td>\n      <td></td>\n      <td></td>\n      <td></td>\n      <td></td>\n      <td>logging</td>\n    </tr>\n    <tr>\n      <th>Lhasa</th>\n      <td></td>\n      <td>oil mine</td>\n      <td>quarry</td>\n      <td></td>\n      <td></td>\n      <td></td>\n      <td></td>\n      <td></td>\n      <td>logging</td>\n    </tr>\n    <tr>\n      <th>Chengdu</th>\n      <td></td>\n      <td>oil mine</td>\n      <td></td>\n      <td></td>\n      <td></td>\n      <td></td>\n      <td></td>\n      <td>copper mine</td>\n      <td>logging</td>\n    </tr>\n    <tr>\n      <th>Chongqing</th>\n      <td></td>\n      <td>oil mine</td>\n      <td></td>\n      <td></td>\n      <td></td>\n      <td></td>\n      <td></td>\n      <td>copper mine</td>\n      <td>logging</td>\n    </tr>\n    <tr>\n      <th>Kunming</th>\n      <td></td>\n      <td></td>\n      <td>quarry</td>\n      <td></td>\n      <td></td>\n      <td></td>\n      <td></td>\n      <td>copper mine</td>\n      <td>logging</td>\n    </tr>\n    <tr>\n      <th>Guiyang</th>\n      <td></td>\n      <td>oil mine</td>\n      <td></td>\n      <td></td>\n      <td></td>\n      <td></td>\n      <td></td>\n      <td>copper mine</td>\n      <td>logging</td>\n    </tr>\n    <tr>\n      <th>Nanning</th>\n      <td></td>\n      <td></td>\n      <td>quarry</td>\n      <td></td>\n      <td></td>\n      <td>tungsten mine</td>\n      <td></td>\n      <td></td>\n      <td>logging</td>\n    </tr>\n    <tr>\n      <th>Olgii</th>\n      <td></td>\n      <td></td>\n      <td>quarry</td>\n      <td></td>\n      <td></td>\n      <td>tungsten mine</td>\n      <td></td>\n      <td>copper mine</td>\n      <td></td>\n    </tr>\n    <tr>\n      <th>Ulaangom</th>\n      <td></td>\n      <td></td>\n      <td></td>\n      <td></td>\n      <td></td>\n      <td>tungsten mine</td>\n      <td></td>\n      <td>copper mine</td>\n      <td></td>\n    </tr>\n    <tr>\n      <th>Dund-Us</th>\n      <td></td>\n      <td></td>\n      <td></td>\n      <td></td>\n      <td></td>\n      <td>tungsten mine</td>\n      <td></td>\n      <td>copper mine</td>\n      <td>logging</td>\n    </tr>\n    <tr>\n      <th>Uliastay</th>\n      <td></td>\n      <td></td>\n      <td></td>\n      <td></td>\n      <td></td>\n      <td></td>\n      <td></td>\n      <td></td>\n      <td></td>\n    </tr>\n    <tr>\n      <th>Moron</th>\n      <td></td>\n      <td></td>\n      <td>quarry</td>\n      <td>aluminum mine</td>\n      <td>gold mine</td>\n      <td></td>\n      <td></td>\n      <td></td>\n      <td></td>\n    </tr>\n    <tr>\n      <th>Tsetserleg</th>\n      <td></td>\n      <td></td>\n      <td>quarry</td>\n      <td>aluminum mine</td>\n      <td>gold mine</td>\n      <td></td>\n      <td></td>\n      <td></td>\n      <td>logging</td>\n    </tr>\n    <tr>\n      <th>Bayankhongor</th>\n      <td></td>\n      <td></td>\n      <td></td>\n      <td></td>\n      <td>gold mine</td>\n      <td></td>\n      <td></td>\n      <td></td>\n      <td></td>\n    </tr>\n    <tr>\n      <th>Arvayheer</th>\n      <td></td>\n      <td></td>\n      <td>quarry</td>\n      <td></td>\n      <td></td>\n      <td></td>\n      <td></td>\n      <td></td>\n      <td></td>\n    </tr>\n    <tr>\n      <th>Bulgan</th>\n      <td></td>\n      <td></td>\n      <td></td>\n      <td></td>\n      <td></td>\n      <td></td>\n      <td></td>\n      <td></td>\n      <td></td>\n    </tr>\n    <tr>\n      <th>Erdenet</th>\n      <td></td>\n      <td></td>\n      <td></td>\n      <td>aluminum mine</td>\n      <td>gold mine</td>\n      <td></td>\n      <td></td>\n      <td></td>\n      <td>logging</td>\n    </tr>\n    <tr>\n      <th>Dalandzadgad</th>\n      <td></td>\n      <td>oil mine</td>\n      <td></td>\n      <td></td>\n      <td></td>\n      <td></td>\n      <td></td>\n      <td>copper mine</td>\n      <td></td>\n    </tr>\n    <tr>\n      <th>Suchboatar</th>\n      <td>iron mine</td>\n      <td></td>\n      <td>quarry</td>\n      <td></td>\n      <td>gold mine</td>\n      <td></td>\n      <td></td>\n      <td></td>\n      <td></td>\n    </tr>\n    <tr>\n      <th>Darhan</th>\n      <td>iron mine</td>\n      <td></td>\n      <td>quarry</td>\n      <td></td>\n      <td>gold mine</td>\n      <td></td>\n      <td></td>\n      <td></td>\n      <td>logging</td>\n    </tr>\n    <tr>\n      <th>Dzuunharaa</th>\n      <td></td>\n      <td></td>\n      <td></td>\n      <td></td>\n      <td>gold mine</td>\n      <td></td>\n      <td></td>\n      <td></td>\n      <td></td>\n    </tr>\n    <tr>\n      <th>Ulaanbaatar</th>\n      <td></td>\n      <td></td>\n      <td>quarry</td>\n      <td></td>\n      <td>gold mine</td>\n      <td></td>\n      <td></td>\n      <td></td>\n      <td></td>\n    </tr>\n    <tr>\n      <th>Buyant-Uhaa</th>\n      <td></td>\n      <td>oil mine</td>\n      <td></td>\n      <td></td>\n      <td></td>\n      <td></td>\n      <td></td>\n      <td>copper mine</td>\n      <td></td>\n    </tr>\n    <tr>\n      <th>Ondorhaan</th>\n      <td></td>\n      <td></td>\n      <td></td>\n      <td></td>\n      <td></td>\n      <td></td>\n      <td></td>\n      <td></td>\n      <td>logging</td>\n    </tr>\n    <tr>\n      <th>Baruun Urt</th>\n      <td></td>\n      <td></td>\n      <td></td>\n      <td></td>\n      <td></td>\n      <td></td>\n      <td></td>\n      <td></td>\n      <td></td>\n    </tr>\n    <tr>\n      <th>Choybalsan</th>\n      <td></td>\n      <td></td>\n      <td>quarry</td>\n      <td></td>\n      <td></td>\n      <td></td>\n      <td></td>\n      <td></td>\n      <td></td>\n    </tr>\n    <tr>\n      <th>Taiyuan</th>\n      <td>iron mine</td>\n      <td></td>\n      <td></td>\n      <td>aluminum mine</td>\n      <td></td>\n      <td></td>\n      <td></td>\n      <td></td>\n      <td></td>\n    </tr>\n    <tr>\n      <th>Zhengzhou</th>\n      <td></td>\n      <td></td>\n      <td>quarry</td>\n      <td></td>\n      <td></td>\n      <td></td>\n      <td></td>\n      <td></td>\n      <td>logging</td>\n    </tr>\n    <tr>\n      <th>Hefei</th>\n      <td></td>\n      <td></td>\n      <td></td>\n      <td></td>\n      <td></td>\n      <td></td>\n      <td>uranium mine</td>\n      <td></td>\n      <td>logging</td>\n    </tr>\n    <tr>\n      <th>Wuhan</th>\n      <td></td>\n      <td></td>\n      <td>quarry</td>\n      <td></td>\n      <td></td>\n      <td></td>\n      <td></td>\n      <td></td>\n      <td>logging</td>\n    </tr>\n    <tr>\n      <th>Nanchang</th>\n      <td></td>\n      <td></td>\n      <td>quarry</td>\n      <td></td>\n      <td></td>\n      <td>tungsten mine</td>\n      <td></td>\n      <td></td>\n      <td>logging</td>\n    </tr>\n    <tr>\n      <th>Changsha</th>\n      <td></td>\n      <td></td>\n      <td></td>\n      <td></td>\n      <td></td>\n      <td></td>\n      <td></td>\n      <td></td>\n      <td>logging</td>\n    </tr>\n  </tbody>\n</table>\n</div>"
     },
     "execution_count": 19,
     "metadata": {},
     "output_type": "execute_result"
    }
   ],
   "source": [
    "mining = pd.DataFrame(\n",
    "    {\n",
    "        \"Iron\": IronB,\n",
    "        \"Oil\": OilB,\n",
    "        \"Stone\": StoneB,\n",
    "        \"Aluminum\": AluminumB,\n",
    "        \"Gold\": GoldB,\n",
    "        \"Tungsten\": TungstenB,\n",
    "        \"Uranium\": UraniumB,\n",
    "        \"Copper\": CopperB,\n",
    "        \"Wood\": WoodB\n",
    "    },\n",
    "index=Cities)\n",
    "mining"
   ]
  },
  {
   "cell_type": "code",
   "execution_count": 20,
   "id": "15f4e413",
   "metadata": {},
   "outputs": [],
   "source": [
    "mining.to_excel(\"output.xlsx\", sheet_name='Sheet1')\n",
    "mining.to_csv(\"output2.csv\")"
   ]
  },
  {
   "cell_type": "code",
   "execution_count": 21,
   "id": "4b2c2916",
   "metadata": {
    "scrolled": true
   },
   "outputs": [
    {
     "name": "stdout",
     "output_type": "stream",
     "text": [
      "With a total of 39 Mines 20 Quarries 17 Loggings or **$8370,000.00**\n"
     ]
    }
   ],
   "source": [
    "print(f'With a total of {OilCount+CopperCount+IronCount+GoldCount+TungstenCount+AluminumCount+UraniumCount} Mines {StoneCount} Quarries {WoodCount} Loggings or **${(OilCount+CopperCount+IronCount+GoldCount+TungstenCount+AluminumCount+UraniumCount)*200+StoneCount*20+WoodCount*10},000.00**')"
   ]
  },
  {
   "cell_type": "code",
   "execution_count": 22,
   "id": "6b42673f-f4ba-4024-b7a7-b9aeb2d99dc4",
   "metadata": {},
   "outputs": [],
   "source": [
    "combine = pd.concat([resource, mining], axis=1, keys=['Resources','Mines'])\n",
    "combine.to_csv(\"output3.csv\")"
   ]
  }
 ],
 "metadata": {
  "kernelspec": {
   "display_name": "Python 3 (ipykernel)",
   "language": "python",
   "name": "python3"
  },
  "language_info": {
   "codemirror_mode": {
    "name": "ipython",
    "version": 3
   },
   "file_extension": ".py",
   "mimetype": "text/x-python",
   "name": "python",
   "nbconvert_exporter": "python",
   "pygments_lexer": "ipython3",
   "version": "3.10.2"
  },
  "toc-autonumbering": true,
  "toc-showcode": true,
  "toc-showmarkdowntxt": true,
  "toc-showtags": true
 },
 "nbformat": 4,
 "nbformat_minor": 5
}